{
 "cells": [
  {
   "cell_type": "code",
   "execution_count": null,
   "metadata": {},
   "outputs": [],
   "source": [
    "import pyblp\n",
    "import numpy as np\n",
    "import pandas as pd\n",
    "import statsmodels.formula.api as smf\n",
    "import sys\n",
    "import os\n",
    "MODL = os.path.dirname(os.path.abspath(__file__)).split('Exercise-2')[0]\n",
    "sys.path.append(MODL)\n",
    "from utils import get_data\n",
    "\n",
    "pyblp.options.digits = 3\n",
    "pyblp.options.verbose = False\n",
    "pd.options.display.precision = 3\n",
    "pd.options.display.max_columns = 50\n",
    "\n",
    "import IPython.display\n",
    "IPython.display.display(IPython.display.HTML('<style>pre { white-space: pre !important; }</style>'))\n",
    "df = get_data('products')\n",
    "print(df.columns)"
   ]
  }
 ],
 "metadata": {
  "language_info": {
   "name": "python"
  }
 },
 "nbformat": 4,
 "nbformat_minor": 2
}
